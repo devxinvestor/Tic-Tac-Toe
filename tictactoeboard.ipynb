{
  "cells": [
    {
      "cell_type": "code",
      "execution_count": 53,
      "metadata": {
        "id": "-xEl-USHCXxn"
      },
      "outputs": [],
      "source": [
        "import numpy as np\n",
        "from sklearn.neural_network import MLPRegressor\n",
        "from sklearn.model_selection import train_test_split\n",
        "from sklearn.metrics import accuracy_score, confusion_matrix\n",
        "from sklearn.model_selection import cross_val_score\n",
        "from sklearn.utils import shuffle\n",
        "from sklearn.neighbors import KNeighborsRegressor\n",
        "from sklearn.multioutput import MultiOutputRegressor\n",
        "from sklearn.metrics import r2_score\n",
        "from sklearn.linear_model import LinearRegression"
      ]
    },
    {
      "cell_type": "code",
      "execution_count": 54,
      "metadata": {
        "id": "MwcRcpO5DMLV"
      },
      "outputs": [],
      "source": [
        "gameBoard = np.zeros((3,3))\n",
        "current_player = 1"
      ]
    },
    {
      "cell_type": "code",
      "execution_count": 55,
      "metadata": {
        "id": "vpxAPVZYE9L7"
      },
      "outputs": [],
      "source": [
        "def check_winner(self):\n",
        "# Check rows, columns, and diagonals for a win\n",
        "    #print(\"From Check Winner\")\n",
        "    #print(gameBoard)\n",
        "    for i in range(3):\n",
        "        if np.all(gameBoard[i] == 1) or np.all(gameBoard[:, i] == 1):\n",
        "            return 1\n",
        "        elif np.all(gameBoard[i] == -1) or np.all(gameBoard[:, i] == -1):\n",
        "            return -1\n",
        "    if np.all(np.diag(gameBoard) == 1) or np.all(np.diag(np.fliplr(gameBoard)) == 1):\n",
        "        return 1\n",
        "    elif np.all(np.diag(gameBoard) == -1) or np.all(np.diag(np.fliplr(gameBoard)) == -1):\n",
        "        return -1\n",
        "    return 0"
      ]
    },
    {
      "cell_type": "code",
      "execution_count": 56,
      "metadata": {
        "colab": {
          "base_uri": "https://localhost:8080/"
        },
        "id": "QUPWL-d9Da6k",
        "outputId": "195700b0-dc58-4906-dc15-a4c651186004"
      },
      "outputs": [
        {
          "output_type": "stream",
          "name": "stdout",
          "text": [
            "- - -\n",
            "- - -\n",
            "- - -\n"
          ]
        }
      ],
      "source": [
        "for row in gameBoard:\n",
        "  print(' '.join(['X' if x == 1 else 'O' if x == -1 else '-' for x in row]))"
      ]
    },
    {
      "cell_type": "code",
      "execution_count": 57,
      "metadata": {
        "id": "bj0XzljwE6Hh"
      },
      "outputs": [],
      "source": [
        "#arr = np.array([0, 0, 1, 0, 1, 0, 0, 0, 0])\n",
        "#newArray = np.reshape(arr, (3, 3))\n",
        "#print(newArray)\n",
        "#non_zero_indices = np.nonzero(arr)[0]\n",
        "#print(non_zero_indices[0])"
      ]
    },
    {
      "cell_type": "code",
      "execution_count": 58,
      "metadata": {
        "id": "8Uap4QB8pETq"
      },
      "outputs": [],
      "source": [
        "tictac_data_multi = np.loadtxt('tictac_multi.txt')\n",
        "X = tictac_data_multi[:,:9]\n",
        "y = tictac_data_multi[:,9:]"
      ]
    },
    {
      "cell_type": "code",
      "execution_count": 59,
      "metadata": {
        "id": "tT4BuFvuo_nu",
        "colab": {
          "base_uri": "https://localhost:8080/",
          "height": 129
        },
        "outputId": "6ed3ee6f-3be5-480b-a3a1-307ce2d0f46a"
      },
      "outputs": [
        {
          "output_type": "stream",
          "name": "stderr",
          "text": [
            "/usr/local/lib/python3.10/dist-packages/sklearn/neural_network/_multilayer_perceptron.py:686: ConvergenceWarning: Stochastic Optimizer: Maximum iterations (100) reached and the optimization hasn't converged yet.\n",
            "  warnings.warn(\n"
          ]
        },
        {
          "output_type": "execute_result",
          "data": {
            "text/plain": [
              "MLPRegressor(hidden_layer_sizes=(128, 32), max_iter=100, random_state=42)"
            ],
            "text/html": [
              "<style>#sk-container-id-7 {color: black;background-color: white;}#sk-container-id-7 pre{padding: 0;}#sk-container-id-7 div.sk-toggleable {background-color: white;}#sk-container-id-7 label.sk-toggleable__label {cursor: pointer;display: block;width: 100%;margin-bottom: 0;padding: 0.3em;box-sizing: border-box;text-align: center;}#sk-container-id-7 label.sk-toggleable__label-arrow:before {content: \"▸\";float: left;margin-right: 0.25em;color: #696969;}#sk-container-id-7 label.sk-toggleable__label-arrow:hover:before {color: black;}#sk-container-id-7 div.sk-estimator:hover label.sk-toggleable__label-arrow:before {color: black;}#sk-container-id-7 div.sk-toggleable__content {max-height: 0;max-width: 0;overflow: hidden;text-align: left;background-color: #f0f8ff;}#sk-container-id-7 div.sk-toggleable__content pre {margin: 0.2em;color: black;border-radius: 0.25em;background-color: #f0f8ff;}#sk-container-id-7 input.sk-toggleable__control:checked~div.sk-toggleable__content {max-height: 200px;max-width: 100%;overflow: auto;}#sk-container-id-7 input.sk-toggleable__control:checked~label.sk-toggleable__label-arrow:before {content: \"▾\";}#sk-container-id-7 div.sk-estimator input.sk-toggleable__control:checked~label.sk-toggleable__label {background-color: #d4ebff;}#sk-container-id-7 div.sk-label input.sk-toggleable__control:checked~label.sk-toggleable__label {background-color: #d4ebff;}#sk-container-id-7 input.sk-hidden--visually {border: 0;clip: rect(1px 1px 1px 1px);clip: rect(1px, 1px, 1px, 1px);height: 1px;margin: -1px;overflow: hidden;padding: 0;position: absolute;width: 1px;}#sk-container-id-7 div.sk-estimator {font-family: monospace;background-color: #f0f8ff;border: 1px dotted black;border-radius: 0.25em;box-sizing: border-box;margin-bottom: 0.5em;}#sk-container-id-7 div.sk-estimator:hover {background-color: #d4ebff;}#sk-container-id-7 div.sk-parallel-item::after {content: \"\";width: 100%;border-bottom: 1px solid gray;flex-grow: 1;}#sk-container-id-7 div.sk-label:hover label.sk-toggleable__label {background-color: #d4ebff;}#sk-container-id-7 div.sk-serial::before {content: \"\";position: absolute;border-left: 1px solid gray;box-sizing: border-box;top: 0;bottom: 0;left: 50%;z-index: 0;}#sk-container-id-7 div.sk-serial {display: flex;flex-direction: column;align-items: center;background-color: white;padding-right: 0.2em;padding-left: 0.2em;position: relative;}#sk-container-id-7 div.sk-item {position: relative;z-index: 1;}#sk-container-id-7 div.sk-parallel {display: flex;align-items: stretch;justify-content: center;background-color: white;position: relative;}#sk-container-id-7 div.sk-item::before, #sk-container-id-7 div.sk-parallel-item::before {content: \"\";position: absolute;border-left: 1px solid gray;box-sizing: border-box;top: 0;bottom: 0;left: 50%;z-index: -1;}#sk-container-id-7 div.sk-parallel-item {display: flex;flex-direction: column;z-index: 1;position: relative;background-color: white;}#sk-container-id-7 div.sk-parallel-item:first-child::after {align-self: flex-end;width: 50%;}#sk-container-id-7 div.sk-parallel-item:last-child::after {align-self: flex-start;width: 50%;}#sk-container-id-7 div.sk-parallel-item:only-child::after {width: 0;}#sk-container-id-7 div.sk-dashed-wrapped {border: 1px dashed gray;margin: 0 0.4em 0.5em 0.4em;box-sizing: border-box;padding-bottom: 0.4em;background-color: white;}#sk-container-id-7 div.sk-label label {font-family: monospace;font-weight: bold;display: inline-block;line-height: 1.2em;}#sk-container-id-7 div.sk-label-container {text-align: center;}#sk-container-id-7 div.sk-container {/* jupyter's `normalize.less` sets `[hidden] { display: none; }` but bootstrap.min.css set `[hidden] { display: none !important; }` so we also need the `!important` here to be able to override the default hidden behavior on the sphinx rendered scikit-learn.org. See: https://github.com/scikit-learn/scikit-learn/issues/21755 */display: inline-block !important;position: relative;}#sk-container-id-7 div.sk-text-repr-fallback {display: none;}</style><div id=\"sk-container-id-7\" class=\"sk-top-container\"><div class=\"sk-text-repr-fallback\"><pre>MLPRegressor(hidden_layer_sizes=(128, 32), max_iter=100, random_state=42)</pre><b>In a Jupyter environment, please rerun this cell to show the HTML representation or trust the notebook. <br />On GitHub, the HTML representation is unable to render, please try loading this page with nbviewer.org.</b></div><div class=\"sk-container\" hidden><div class=\"sk-item\"><div class=\"sk-estimator sk-toggleable\"><input class=\"sk-toggleable__control sk-hidden--visually\" id=\"sk-estimator-id-7\" type=\"checkbox\" checked><label for=\"sk-estimator-id-7\" class=\"sk-toggleable__label sk-toggleable__label-arrow\">MLPRegressor</label><div class=\"sk-toggleable__content\"><pre>MLPRegressor(hidden_layer_sizes=(128, 32), max_iter=100, random_state=42)</pre></div></div></div></div></div>"
            ]
          },
          "metadata": {},
          "execution_count": 59
        }
      ],
      "source": [
        "#mlp_regressor = MLPRegressor(hidden_layer_sizes=(50, 25), activation='relu', max_iter=100, random_state=42)\n",
        "mlp_regressor = MLPRegressor(hidden_layer_sizes=(128, 32), activation='relu', max_iter=100, random_state=42)\n",
        "mlp_regressor.fit(X, y)"
      ]
    },
    {
      "cell_type": "code",
      "execution_count": 60,
      "metadata": {
        "id": "k6FvhWWn4EjI",
        "colab": {
          "base_uri": "https://localhost:8080/",
          "height": 74
        },
        "outputId": "1ff2b5de-c35b-4879-9c5e-2a81b8c8c484"
      },
      "outputs": [
        {
          "output_type": "execute_result",
          "data": {
            "text/plain": [
              "KNeighborsRegressor()"
            ],
            "text/html": [
              "<style>#sk-container-id-8 {color: black;background-color: white;}#sk-container-id-8 pre{padding: 0;}#sk-container-id-8 div.sk-toggleable {background-color: white;}#sk-container-id-8 label.sk-toggleable__label {cursor: pointer;display: block;width: 100%;margin-bottom: 0;padding: 0.3em;box-sizing: border-box;text-align: center;}#sk-container-id-8 label.sk-toggleable__label-arrow:before {content: \"▸\";float: left;margin-right: 0.25em;color: #696969;}#sk-container-id-8 label.sk-toggleable__label-arrow:hover:before {color: black;}#sk-container-id-8 div.sk-estimator:hover label.sk-toggleable__label-arrow:before {color: black;}#sk-container-id-8 div.sk-toggleable__content {max-height: 0;max-width: 0;overflow: hidden;text-align: left;background-color: #f0f8ff;}#sk-container-id-8 div.sk-toggleable__content pre {margin: 0.2em;color: black;border-radius: 0.25em;background-color: #f0f8ff;}#sk-container-id-8 input.sk-toggleable__control:checked~div.sk-toggleable__content {max-height: 200px;max-width: 100%;overflow: auto;}#sk-container-id-8 input.sk-toggleable__control:checked~label.sk-toggleable__label-arrow:before {content: \"▾\";}#sk-container-id-8 div.sk-estimator input.sk-toggleable__control:checked~label.sk-toggleable__label {background-color: #d4ebff;}#sk-container-id-8 div.sk-label input.sk-toggleable__control:checked~label.sk-toggleable__label {background-color: #d4ebff;}#sk-container-id-8 input.sk-hidden--visually {border: 0;clip: rect(1px 1px 1px 1px);clip: rect(1px, 1px, 1px, 1px);height: 1px;margin: -1px;overflow: hidden;padding: 0;position: absolute;width: 1px;}#sk-container-id-8 div.sk-estimator {font-family: monospace;background-color: #f0f8ff;border: 1px dotted black;border-radius: 0.25em;box-sizing: border-box;margin-bottom: 0.5em;}#sk-container-id-8 div.sk-estimator:hover {background-color: #d4ebff;}#sk-container-id-8 div.sk-parallel-item::after {content: \"\";width: 100%;border-bottom: 1px solid gray;flex-grow: 1;}#sk-container-id-8 div.sk-label:hover label.sk-toggleable__label {background-color: #d4ebff;}#sk-container-id-8 div.sk-serial::before {content: \"\";position: absolute;border-left: 1px solid gray;box-sizing: border-box;top: 0;bottom: 0;left: 50%;z-index: 0;}#sk-container-id-8 div.sk-serial {display: flex;flex-direction: column;align-items: center;background-color: white;padding-right: 0.2em;padding-left: 0.2em;position: relative;}#sk-container-id-8 div.sk-item {position: relative;z-index: 1;}#sk-container-id-8 div.sk-parallel {display: flex;align-items: stretch;justify-content: center;background-color: white;position: relative;}#sk-container-id-8 div.sk-item::before, #sk-container-id-8 div.sk-parallel-item::before {content: \"\";position: absolute;border-left: 1px solid gray;box-sizing: border-box;top: 0;bottom: 0;left: 50%;z-index: -1;}#sk-container-id-8 div.sk-parallel-item {display: flex;flex-direction: column;z-index: 1;position: relative;background-color: white;}#sk-container-id-8 div.sk-parallel-item:first-child::after {align-self: flex-end;width: 50%;}#sk-container-id-8 div.sk-parallel-item:last-child::after {align-self: flex-start;width: 50%;}#sk-container-id-8 div.sk-parallel-item:only-child::after {width: 0;}#sk-container-id-8 div.sk-dashed-wrapped {border: 1px dashed gray;margin: 0 0.4em 0.5em 0.4em;box-sizing: border-box;padding-bottom: 0.4em;background-color: white;}#sk-container-id-8 div.sk-label label {font-family: monospace;font-weight: bold;display: inline-block;line-height: 1.2em;}#sk-container-id-8 div.sk-label-container {text-align: center;}#sk-container-id-8 div.sk-container {/* jupyter's `normalize.less` sets `[hidden] { display: none; }` but bootstrap.min.css set `[hidden] { display: none !important; }` so we also need the `!important` here to be able to override the default hidden behavior on the sphinx rendered scikit-learn.org. See: https://github.com/scikit-learn/scikit-learn/issues/21755 */display: inline-block !important;position: relative;}#sk-container-id-8 div.sk-text-repr-fallback {display: none;}</style><div id=\"sk-container-id-8\" class=\"sk-top-container\"><div class=\"sk-text-repr-fallback\"><pre>KNeighborsRegressor()</pre><b>In a Jupyter environment, please rerun this cell to show the HTML representation or trust the notebook. <br />On GitHub, the HTML representation is unable to render, please try loading this page with nbviewer.org.</b></div><div class=\"sk-container\" hidden><div class=\"sk-item\"><div class=\"sk-estimator sk-toggleable\"><input class=\"sk-toggleable__control sk-hidden--visually\" id=\"sk-estimator-id-8\" type=\"checkbox\" checked><label for=\"sk-estimator-id-8\" class=\"sk-toggleable__label sk-toggleable__label-arrow\">KNeighborsRegressor</label><div class=\"sk-toggleable__content\"><pre>KNeighborsRegressor()</pre></div></div></div></div></div>"
            ]
          },
          "metadata": {},
          "execution_count": 60
        }
      ],
      "source": [
        "knn_regressor = KNeighborsRegressor(n_neighbors=5)\n",
        "knn_regressor.fit(X, y)"
      ]
    },
    {
      "cell_type": "code",
      "source": [
        "linear_models = []\n",
        "linear_regressor = LinearRegression()\n",
        "linear_regressor.fit(X, y)\n",
        "#for i in range(9):\n",
        "  #linear_regressor = LinearRegression()\n",
        "  #linear_regressor.fit(X, y[:, i])\n",
        "  #linear_models.append(linear_regressor)\n",
        "  #linear_outputs = np.array([np.round(model.predict(X)) for model in linear_models]).T\n",
        "  #linear_pred = np.argmax(linear_outputs, axis=1)"
      ],
      "metadata": {
        "colab": {
          "base_uri": "https://localhost:8080/",
          "height": 74
        },
        "id": "i74ELgIeOVtR",
        "outputId": "1fb131ce-1143-44f8-aaf7-235ac2852051"
      },
      "execution_count": 61,
      "outputs": [
        {
          "output_type": "execute_result",
          "data": {
            "text/plain": [
              "LinearRegression()"
            ],
            "text/html": [
              "<style>#sk-container-id-9 {color: black;background-color: white;}#sk-container-id-9 pre{padding: 0;}#sk-container-id-9 div.sk-toggleable {background-color: white;}#sk-container-id-9 label.sk-toggleable__label {cursor: pointer;display: block;width: 100%;margin-bottom: 0;padding: 0.3em;box-sizing: border-box;text-align: center;}#sk-container-id-9 label.sk-toggleable__label-arrow:before {content: \"▸\";float: left;margin-right: 0.25em;color: #696969;}#sk-container-id-9 label.sk-toggleable__label-arrow:hover:before {color: black;}#sk-container-id-9 div.sk-estimator:hover label.sk-toggleable__label-arrow:before {color: black;}#sk-container-id-9 div.sk-toggleable__content {max-height: 0;max-width: 0;overflow: hidden;text-align: left;background-color: #f0f8ff;}#sk-container-id-9 div.sk-toggleable__content pre {margin: 0.2em;color: black;border-radius: 0.25em;background-color: #f0f8ff;}#sk-container-id-9 input.sk-toggleable__control:checked~div.sk-toggleable__content {max-height: 200px;max-width: 100%;overflow: auto;}#sk-container-id-9 input.sk-toggleable__control:checked~label.sk-toggleable__label-arrow:before {content: \"▾\";}#sk-container-id-9 div.sk-estimator input.sk-toggleable__control:checked~label.sk-toggleable__label {background-color: #d4ebff;}#sk-container-id-9 div.sk-label input.sk-toggleable__control:checked~label.sk-toggleable__label {background-color: #d4ebff;}#sk-container-id-9 input.sk-hidden--visually {border: 0;clip: rect(1px 1px 1px 1px);clip: rect(1px, 1px, 1px, 1px);height: 1px;margin: -1px;overflow: hidden;padding: 0;position: absolute;width: 1px;}#sk-container-id-9 div.sk-estimator {font-family: monospace;background-color: #f0f8ff;border: 1px dotted black;border-radius: 0.25em;box-sizing: border-box;margin-bottom: 0.5em;}#sk-container-id-9 div.sk-estimator:hover {background-color: #d4ebff;}#sk-container-id-9 div.sk-parallel-item::after {content: \"\";width: 100%;border-bottom: 1px solid gray;flex-grow: 1;}#sk-container-id-9 div.sk-label:hover label.sk-toggleable__label {background-color: #d4ebff;}#sk-container-id-9 div.sk-serial::before {content: \"\";position: absolute;border-left: 1px solid gray;box-sizing: border-box;top: 0;bottom: 0;left: 50%;z-index: 0;}#sk-container-id-9 div.sk-serial {display: flex;flex-direction: column;align-items: center;background-color: white;padding-right: 0.2em;padding-left: 0.2em;position: relative;}#sk-container-id-9 div.sk-item {position: relative;z-index: 1;}#sk-container-id-9 div.sk-parallel {display: flex;align-items: stretch;justify-content: center;background-color: white;position: relative;}#sk-container-id-9 div.sk-item::before, #sk-container-id-9 div.sk-parallel-item::before {content: \"\";position: absolute;border-left: 1px solid gray;box-sizing: border-box;top: 0;bottom: 0;left: 50%;z-index: -1;}#sk-container-id-9 div.sk-parallel-item {display: flex;flex-direction: column;z-index: 1;position: relative;background-color: white;}#sk-container-id-9 div.sk-parallel-item:first-child::after {align-self: flex-end;width: 50%;}#sk-container-id-9 div.sk-parallel-item:last-child::after {align-self: flex-start;width: 50%;}#sk-container-id-9 div.sk-parallel-item:only-child::after {width: 0;}#sk-container-id-9 div.sk-dashed-wrapped {border: 1px dashed gray;margin: 0 0.4em 0.5em 0.4em;box-sizing: border-box;padding-bottom: 0.4em;background-color: white;}#sk-container-id-9 div.sk-label label {font-family: monospace;font-weight: bold;display: inline-block;line-height: 1.2em;}#sk-container-id-9 div.sk-label-container {text-align: center;}#sk-container-id-9 div.sk-container {/* jupyter's `normalize.less` sets `[hidden] { display: none; }` but bootstrap.min.css set `[hidden] { display: none !important; }` so we also need the `!important` here to be able to override the default hidden behavior on the sphinx rendered scikit-learn.org. See: https://github.com/scikit-learn/scikit-learn/issues/21755 */display: inline-block !important;position: relative;}#sk-container-id-9 div.sk-text-repr-fallback {display: none;}</style><div id=\"sk-container-id-9\" class=\"sk-top-container\"><div class=\"sk-text-repr-fallback\"><pre>LinearRegression()</pre><b>In a Jupyter environment, please rerun this cell to show the HTML representation or trust the notebook. <br />On GitHub, the HTML representation is unable to render, please try loading this page with nbviewer.org.</b></div><div class=\"sk-container\" hidden><div class=\"sk-item\"><div class=\"sk-estimator sk-toggleable\"><input class=\"sk-toggleable__control sk-hidden--visually\" id=\"sk-estimator-id-9\" type=\"checkbox\" checked><label for=\"sk-estimator-id-9\" class=\"sk-toggleable__label sk-toggleable__label-arrow\">LinearRegression</label><div class=\"sk-toggleable__content\"><pre>LinearRegression()</pre></div></div></div></div></div>"
            ]
          },
          "metadata": {},
          "execution_count": 61
        }
      ]
    },
    {
      "cell_type": "code",
      "execution_count": 62,
      "metadata": {
        "id": "Cx_DYMH2UCkz"
      },
      "outputs": [],
      "source": [
        "#arr = np.round(np.array([1.3, 2.7, 3.5, 4.8]))\n",
        "#print(arr)"
      ]
    },
    {
      "cell_type": "code",
      "execution_count": 67,
      "metadata": {
        "id": "T6kdfPeJQkBv",
        "colab": {
          "base_uri": "https://localhost:8080/"
        },
        "outputId": "e8cb2c45-7cac-4c5c-f0cf-a2f69eb126df"
      },
      "outputs": [
        {
          "output_type": "stream",
          "name": "stdout",
          "text": [
            "[0.24183819 0.16681454 0.23804668 0.1718221  0.2891903  0.17449062\n",
            " 0.24817118 0.16974454 0.24190939]\n",
            "4\n"
          ]
        }
      ],
      "source": [
        "#move = knn_regressor.predict([[0,0,0,0,0,0,0,0,0]])[0]\n",
        "#move = np.round(move)\n",
        "#print(move)\n",
        "#for i in linear_models.si\n",
        "move = linear_regressor.predict([[0,0,0,0,0,0,0,0,0]])[0]\n",
        "print(move)\n",
        "move_index = np.argmax(move)\n",
        "print(move_index)"
      ]
    },
    {
      "cell_type": "markdown",
      "source": [
        "#Tic Tac Toe against MLP"
      ],
      "metadata": {
        "id": "43MYQuyxiAHz"
      }
    },
    {
      "cell_type": "code",
      "execution_count": 69,
      "metadata": {
        "id": "IYFZdMd2RbVF",
        "colab": {
          "base_uri": "https://localhost:8080/"
        },
        "outputId": "48b14abc-e6d6-4a3d-cc55-8ecc63994582"
      },
      "outputs": [
        {
          "output_type": "stream",
          "name": "stdout",
          "text": [
            "Enter index 4\n",
            "- - -\n",
            "- X -\n",
            "- - -\n",
            "[0.24123187 0.19268515 0.2475911  0.18903181 0.27687122 0.18203383\n",
            " 0.24876444 0.19203254 0.23786737]\n",
            "cpuModel: 4\n",
            "Moveset is [0]\n",
            "CPU Move is 0\n",
            "O - -\n",
            "- X -\n",
            "- - -\n",
            "Enter index 3\n",
            "O - -\n",
            "X X -\n",
            "- - -\n",
            "[0.26441211 0.1949332  0.22787081 0.1685028  0.26653301 0.14919993\n",
            " 0.25280401 0.18146973 0.21589718]\n",
            "cpuModel: 4\n",
            "Moveset is [0]\n",
            "No valid CPU moves produced\n",
            "Draw\n"
          ]
        }
      ],
      "source": [
        "gameBoard = np.zeros((3,3))\n",
        "current_player = 1\n",
        "while True:\n",
        "  board1D = gameBoard.flatten()\n",
        "  #human player\n",
        "  if current_player == 1:\n",
        "    move = int(input(\"Enter index \"))\n",
        "    while move < 0 or move > 8 or board1D[move] != 0:\n",
        "      print(\"Invalid inputted space please try again\")\n",
        "      move = input(\"Enter index \")\n",
        "  else:\n",
        "    cpuModel = np.round(mlp_regressor.predict([board1D])[0])\n",
        "    #print(\"cpuModel:\", cpuModel)\n",
        "    #for CPU\n",
        "    moveSet = np.nonzero(cpuModel)[0]\n",
        "    print(\"MLP moveset is\", moveSet)\n",
        "    move = -1\n",
        "    for i in range(moveSet.size):\n",
        "      if board1D[moveSet[i]] == 0:\n",
        "        move = moveSet[i]\n",
        "        break\n",
        "    #no valid move returned\n",
        "    if move == -1:\n",
        "      print(\"No valid CPU moves produced\")\n",
        "      winner = 0\n",
        "      break\n",
        "    print(\"CPU Move is\", move)\n",
        "  board1D[move] = current_player\n",
        "  gameBoard = np.reshape(board1D, (3, 3))\n",
        "  for row in gameBoard:\n",
        "    print(' '.join(['X' if x == 1 else 'O' if x == -1 else '-' for x in row]))\n",
        "  #print(gameBoard)\n",
        "  winner = check_winner(gameBoard)\n",
        "  #print(check_winner(gameBoard))\n",
        "  if winner != 0 or np.count_nonzero(board1D==0) == 0:\n",
        "    break\n",
        "  elif current_player == 1:\n",
        "    current_player = -1\n",
        "  else:\n",
        "    current_player = 1\n",
        "if(winner == 0):\n",
        "  print(\"Draw\")\n",
        "elif(winner == 1):\n",
        "  print(\"Humans win\")\n",
        "else:\n",
        "  print(\"CPU win\")"
      ]
    },
    {
      "cell_type": "markdown",
      "source": [
        "# Tic Tac Toe Against KNN"
      ],
      "metadata": {
        "id": "D10NkKDhiEhi"
      }
    },
    {
      "cell_type": "code",
      "execution_count": 74,
      "metadata": {
        "id": "nk07hxlu4sFH",
        "colab": {
          "base_uri": "https://localhost:8080/"
        },
        "outputId": "83f09d3d-693d-454a-ef80-edd0df9b78f9"
      },
      "outputs": [
        {
          "output_type": "stream",
          "name": "stdout",
          "text": [
            "Enter index 4\n",
            "- - -\n",
            "- X -\n",
            "- - -\n",
            "KNN moveset is [0 1 2 6 7 8]\n",
            "CPU Move is 0\n",
            "O - -\n",
            "- X -\n",
            "- - -\n",
            "Enter index 8\n",
            "O - -\n",
            "- X -\n",
            "- - X\n",
            "KNN moveset is [2 3 6]\n",
            "CPU Move is 2\n",
            "O - O\n",
            "- X -\n",
            "- - X\n",
            "Enter index 1\n",
            "O X O\n",
            "- X -\n",
            "- - X\n",
            "KNN moveset is [6]\n",
            "CPU Move is 6\n",
            "O X O\n",
            "- X -\n",
            "O - X\n",
            "Enter index 7\n",
            "O X O\n",
            "- X -\n",
            "O X X\n",
            "Humans win\n"
          ]
        }
      ],
      "source": [
        "gameBoard = np.zeros((3,3))\n",
        "current_player = 1\n",
        "while True:\n",
        "  board1D = gameBoard.flatten()\n",
        "  #human player\n",
        "  if current_player == 1:\n",
        "    move = int(input(\"Enter index \"))\n",
        "    while move < 0 or move > 8 or board1D[move] != 0:\n",
        "      print(\"Invalid inputted space please try again\")\n",
        "      move = input(\"Enter index \")\n",
        "  else:\n",
        "    cpuModel = np.round(knn_regressor.predict([board1D])[0])\n",
        "    #print(\"cpuModel:\", cpuModel)\n",
        "    #for CPU\n",
        "    moveSet = np.nonzero(cpuModel)[0]\n",
        "    print(\"KNN moveset is\", moveSet)\n",
        "    move = -1\n",
        "    for i in range(moveSet.size):\n",
        "      if board1D[moveSet[i]] == 0:\n",
        "        move = moveSet[i]\n",
        "        break\n",
        "    #no valid move returned\n",
        "    if move == -1:\n",
        "      print(\"No valid CPU moves produced\")\n",
        "      winner = 0\n",
        "      break\n",
        "    print(\"CPU Move is\", move)\n",
        "  board1D[move] = current_player\n",
        "  gameBoard = np.reshape(board1D, (3, 3))\n",
        "  for row in gameBoard:\n",
        "    print(' '.join(['X' if x == 1 else 'O' if x == -1 else '-' for x in row]))\n",
        "  #print(gameBoard)\n",
        "  winner = check_winner(gameBoard)\n",
        "  #print(check_winner(gameBoard))\n",
        "  if winner != 0 or np.count_nonzero(board1D==0) == 0:\n",
        "    break\n",
        "  elif current_player == 1:\n",
        "    current_player = -1\n",
        "  else:\n",
        "    current_player = 1\n",
        "if(winner == 0):\n",
        "  print(\"Draw\")\n",
        "elif(winner == 1):\n",
        "  print(\"Humans win\")\n",
        "else:\n",
        "  print(\"CPU win\")"
      ]
    },
    {
      "cell_type": "markdown",
      "source": [
        "#Tic Tac Toe against linear regressor"
      ],
      "metadata": {
        "id": "P95JTJWNiI2p"
      }
    },
    {
      "cell_type": "code",
      "execution_count": 71,
      "metadata": {
        "id": "Qr6ntJO5ahsP",
        "colab": {
          "base_uri": "https://localhost:8080/"
        },
        "outputId": "750d8b62-c83f-431f-c1d5-a9e7b28772a4"
      },
      "outputs": [
        {
          "output_type": "stream",
          "name": "stdout",
          "text": [
            "Enter index 4\n",
            "- - -\n",
            "- X -\n",
            "- - -\n",
            "cpuModel: [0.24123187 0.19268515 0.2475911  0.18903181 0.27687122 0.18203383\n",
            " 0.24876444 0.19203254 0.23786737]\n",
            "CPU Move is 5\n",
            "- - -\n",
            "- X O\n",
            "- - -\n",
            "Enter index 0\n",
            "X - -\n",
            "- X O\n",
            "- - -\n",
            "cpuModel: [0.23917977 0.19345928 0.24983185 0.19843569 0.28720242 0.22608101\n",
            " 0.25226622 0.20540362 0.25959715]\n",
            "CPU Move is 7\n",
            "X - -\n",
            "- X O\n",
            "- O -\n",
            "Enter index 8\n",
            "X - -\n",
            "- X O\n",
            "- O X\n",
            "Humans win\n"
          ]
        }
      ],
      "source": [
        "gameBoard = np.zeros((3,3))\n",
        "current_player = 1\n",
        "while True:\n",
        "  board1D = gameBoard.flatten()\n",
        "  #human player\n",
        "  if current_player == 1:\n",
        "    move = int(input(\"Enter index \"))\n",
        "    while move < 0 or move > 8 or board1D[move] != 0:\n",
        "      print(\"Invalid inputted space please try again\")\n",
        "      move = input(\"Enter index \")\n",
        "  else:\n",
        "    cpuModel = linear_regressor.predict([board1D])[0]\n",
        "    print(\"cpuModel:\", cpuModel)\n",
        "    #for CPU\n",
        "    move = -1\n",
        "    while move == -1:\n",
        "      select = np.argmax(cpuModel)\n",
        "      if board1D[select] == 0:\n",
        "        move = select\n",
        "        break\n",
        "      else:\n",
        "        cpuModel = np.delete(cpuModel, select)\n",
        "    #no valid move returned\n",
        "    if move == -1:\n",
        "      print(\"No valid CPU moves produced\")\n",
        "      winner = 0\n",
        "      break\n",
        "    print(\"CPU Move is\", move)\n",
        "  board1D[move] = current_player\n",
        "  gameBoard = np.reshape(board1D, (3, 3))\n",
        "  for row in gameBoard:\n",
        "    print(' '.join(['X' if x == 1 else 'O' if x == -1 else '-' for x in row]))\n",
        "  #print(gameBoard)\n",
        "  winner = check_winner(gameBoard)\n",
        "  #print(check_winner(gameBoard))\n",
        "  if winner != 0 or np.count_nonzero(board1D==0) == 0:\n",
        "    break\n",
        "  elif current_player == 1:\n",
        "    current_player = -1\n",
        "  else:\n",
        "    current_player = 1\n",
        "if(winner == 0):\n",
        "  print(\"Draw\")\n",
        "elif(winner == 1):\n",
        "  print(\"Humans win\")\n",
        "else:\n",
        "  print(\"CPU win\")"
      ]
    }
  ],
  "metadata": {
    "colab": {
      "provenance": []
    },
    "kernelspec": {
      "display_name": "Python 3",
      "name": "python3"
    },
    "language_info": {
      "name": "python"
    }
  },
  "nbformat": 4,
  "nbformat_minor": 0
}