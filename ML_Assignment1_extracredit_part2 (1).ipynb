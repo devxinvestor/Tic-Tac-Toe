{
  "cells": [
    {
      "cell_type": "code",
      "execution_count": 64,
      "metadata": {
        "id": "qeupZKBHKVfM"
      },
      "outputs": [],
      "source": [
        "import numpy as np"
      ]
    },
    {
      "cell_type": "code",
      "execution_count": 65,
      "metadata": {
        "id": "pKveYQWiRZx2"
      },
      "outputs": [],
      "source": [
        "from sklearn.model_selection import train_test_split\n",
        "from sklearn.svm import SVC\n",
        "from sklearn.metrics import accuracy_score, confusion_matrix\n",
        "from sklearn.model_selection import cross_val_score\n",
        "from sklearn.utils import shuffle\n",
        "import pandas as pd"
      ]
    },
    {
      "cell_type": "markdown",
      "metadata": {
        "id": "kFALhgT8ag_E"
      },
      "source": [
        "#Loading datasets"
      ]
    },
    {
      "cell_type": "code",
      "execution_count": 66,
      "metadata": {
        "colab": {
          "base_uri": "https://localhost:8080/"
        },
        "id": "xdRcoJqNM9nr",
        "outputId": "ff23de88-ae1c-4ba0-c3bd-27928a2c6512"
      },
      "outputs": [
        {
          "output_type": "execute_result",
          "data": {
            "text/plain": [
              "array([6., 1., 2., ..., 2., 0., 4.])"
            ]
          },
          "metadata": {},
          "execution_count": 66
        }
      ],
      "source": [
        "tictac_data_single = np.loadtxt('tictac_single.txt')\n",
        "X = tictac_data_single[:,:9]\n",
        "y = tictac_data_single[:,9]\n",
        "y"
      ]
    },
    {
      "cell_type": "code",
      "execution_count": 67,
      "metadata": {
        "id": "Ni8F51J5Rqqv"
      },
      "outputs": [],
      "source": [
        "X_shuffled_single, y_shuffled_single = shuffle(X, y, random_state=42)\n",
        "X_train_single, X_test_single, y_train_single, y_test_single = train_test_split(X_shuffled_single, y_shuffled_single, test_size=0.9)"
      ]
    },
    {
      "cell_type": "code",
      "execution_count": 68,
      "metadata": {
        "id": "9Wx0_Ty6Zx6s"
      },
      "outputs": [],
      "source": [
        "tictac_data_final = np.loadtxt('tictac_final.txt')\n",
        "X = tictac_data_final[:,:9]\n",
        "y = tictac_data_final[:,9]"
      ]
    },
    {
      "cell_type": "code",
      "execution_count": 69,
      "metadata": {
        "id": "jSnGfONlaQkv"
      },
      "outputs": [],
      "source": [
        "X_shuffled_final, y_shuffled_final = shuffle(X, y, random_state=42)\n",
        "X_train_final, X_test_final, y_train_final, y_test_final = train_test_split(X_shuffled_final, y_shuffled_final, test_size=0.9)"
      ]
    },
    {
      "cell_type": "code",
      "execution_count": 70,
      "metadata": {
        "colab": {
          "base_uri": "https://localhost:8080/"
        },
        "id": "Go_84C_Xalb0",
        "outputId": "463ce0c3-db5b-409b-baef-2b1128d2a4ff"
      },
      "outputs": [
        {
          "output_type": "stream",
          "name": "stdout",
          "text": [
            "6551\n"
          ]
        },
        {
          "output_type": "execute_result",
          "data": {
            "text/plain": [
              "array([[0., 0., 0., ..., 1., 0., 1.],\n",
              "       [0., 1., 0., ..., 1., 0., 1.],\n",
              "       [0., 0., 1., ..., 0., 0., 1.],\n",
              "       ...,\n",
              "       [0., 0., 1., ..., 0., 0., 1.],\n",
              "       [1., 0., 0., ..., 0., 0., 0.],\n",
              "       [0., 0., 0., ..., 0., 0., 1.]])"
            ]
          },
          "metadata": {},
          "execution_count": 70
        }
      ],
      "source": [
        "tictac_data_multi = np.loadtxt('tictac_multi.txt')\n",
        "X = tictac_data_multi[:,:9]\n",
        "y = tictac_data_multi[:,9:]\n",
        "# change how picking last nine, change loading\n",
        "#np.sum(y == 1, axis=1)\n",
        "print(y.shape[0])\n",
        "y"
      ]
    },
    {
      "cell_type": "code",
      "execution_count": 71,
      "metadata": {
        "colab": {
          "base_uri": "https://localhost:8080/",
          "height": 156
        },
        "id": "cgWijmM2apbn",
        "outputId": "59955c99-a219-4999-fa2e-36d1c6c0f1dd"
      },
      "outputs": [
        {
          "output_type": "display_data",
          "data": {
            "text/plain": [
              "array([[0., 0., 0., ..., 0., 0., 0.],\n",
              "       [0., 0., 0., ..., 0., 0., 1.],\n",
              "       [0., 1., 1., ..., 0., 0., 0.],\n",
              "       ...,\n",
              "       [0., 0., 0., ..., 0., 0., 1.],\n",
              "       [0., 0., 1., ..., 0., 0., 0.],\n",
              "       [0., 0., 0., ..., 0., 0., 0.]])"
            ]
          },
          "metadata": {}
        },
        {
          "output_type": "stream",
          "name": "stdout",
          "text": [
            "(5896, 9)\n"
          ]
        }
      ],
      "source": [
        "X_shuffled_multi, y_shuffled_multi = shuffle(X, y, random_state=42)\n",
        "X_train_multi, X_test_multi, y_train_multi, y_test_multi = train_test_split(X_shuffled_multi, y_shuffled_multi, test_size=0.9)\n",
        "#np.set_printoptions(threshold=np.inf)\n",
        "#print(y_test_multi)\n",
        "from IPython.display import display\n",
        "display(y_test_multi)\n",
        "print(y_test_multi.shape)"
      ]
    },
    {
      "cell_type": "code",
      "execution_count": 72,
      "metadata": {
        "id": "6q_TzFoFcFRE"
      },
      "outputs": [],
      "source": [
        "def svm_model(X_train, y_train, X_test, y_test):\n",
        "  svm_model = SVC(kernel='linear')\n",
        "  svm_model.fit(X_train, y_train)\n",
        "  y_pred = svm_model.predict(X_test)\n",
        "  svm_accuracy = cross_val_score(svm_model, X_train, y_train, cv=10, scoring=\"accuracy\").mean()\n",
        "  conf_matrix = confusion_matrix(y_test, y_pred, normalize = \"true\")\n",
        "  print(f\"SVM(Linear) Accuracy: {svm_accuracy}\")\n",
        "  print(\"Confusion Matrix:\")\n",
        "  print(conf_matrix)\n",
        "  return"
      ]
    },
    {
      "cell_type": "markdown",
      "metadata": {
        "id": "b5ijeDoiWocz"
      },
      "source": [
        "#SVM using single dataset"
      ]
    },
    {
      "cell_type": "code",
      "execution_count": 73,
      "metadata": {
        "colab": {
          "base_uri": "https://localhost:8080/"
        },
        "id": "AHrbtXVhS22v",
        "outputId": "ef029a14-ce5b-426a-ee57-1f9db90ff627"
      },
      "outputs": [
        {
          "output_type": "stream",
          "name": "stdout",
          "text": [
            "SVM(Linear) Accuracy: 0.4580186480186481\n",
            "Confusion Matrix:\n",
            "[[1.         0.         0.         0.         0.         0.         0.         0.         0.        ]\n",
            " [0.11313394 0.37971391 0.33029909 0.00650195 0.10013004 0.         0.03511053 0.         0.03511053]\n",
            " [0.1766055  0.1146789  0.7087156  0.         0.         0.         0.         0.         0.        ]\n",
            " [0.15317287 0.05251641 0.4463895  0.16411379 0.10284464 0.00656455 0.03938731 0.         0.03501094]\n",
            " [0.28829787 0.05851064 0.42659574 0.05744681 0.16914894 0.         0.         0.         0.        ]\n",
            " [0.26397516 0.08074534 0.44099379 0.0310559  0.01863354 0.03726708 0.06832298 0.         0.05900621]\n",
            " [0.25050916 0.05498982 0.42769857 0.13441955 0.03869654 0.00407332 0.08350305 0.         0.00610998]\n",
            " [0.29955947 0.04845815 0.35242291 0.03524229 0.0660793  0.00881057 0.08810573 0.         0.10132159]\n",
            " [0.26823529 0.05176471 0.47058824 0.05647059 0.03294118 0.03529412 0.05647059 0.00470588 0.02352941]]\n"
          ]
        }
      ],
      "source": [
        "svm_model(X_train_single, y_train_single, X_test_single, y_test_single)"
      ]
    },
    {
      "cell_type": "markdown",
      "metadata": {
        "id": "8iZUVx6aEEvk"
      },
      "source": [
        "d"
      ]
    },
    {
      "cell_type": "markdown",
      "metadata": {
        "id": "B87V9auvZjgO"
      },
      "source": [
        "#SVM using final dataset"
      ]
    },
    {
      "cell_type": "code",
      "execution_count": 74,
      "metadata": {
        "id": "8cQ29kOYdpRG",
        "colab": {
          "base_uri": "https://localhost:8080/"
        },
        "outputId": "9733ce79-9e8d-4664-db7f-0f5fc9a387e3"
      },
      "outputs": [
        {
          "output_type": "stream",
          "name": "stdout",
          "text": [
            "SVM(Linear) Accuracy: 0.99\n",
            "Confusion Matrix:\n",
            "[[0.94966443 0.05033557]\n",
            " [0.         1.        ]]\n"
          ]
        }
      ],
      "source": [
        "svm_model(X_train_final, y_train_final, X_test_final, y_test_final)"
      ]
    },
    {
      "cell_type": "code",
      "execution_count": 75,
      "metadata": {
        "id": "xMN2FbhkNirV"
      },
      "outputs": [],
      "source": [
        "from sklearn.neighbors import KNeighborsClassifier"
      ]
    },
    {
      "cell_type": "code",
      "execution_count": 76,
      "metadata": {
        "id": "aNJF3axDfOgW"
      },
      "outputs": [],
      "source": [
        "def knn_model(X_train, y_train, X_test, y_test):\n",
        "  knn_model = KNeighborsClassifier(n_neighbors=5)\n",
        "  knn_model.fit(X_train, y_train)\n",
        "  y_pred = knn_model.predict(X_test)\n",
        "  knn_accuracy = cross_val_score(knn_model, X_train, y_train, cv=10, scoring=\"accuracy\").mean()\n",
        "  #knn_accuracy = accuracy_score(y_test, y_pred)\n",
        "  conf_matrix = confusion_matrix(y_test, y_pred, normalize = \"true\")\n",
        "  print(f\"KNN Accuracy: {knn_accuracy}\")\n",
        "  print(\"Confusion Matrix:\")\n",
        "  print(conf_matrix)\n",
        "  return"
      ]
    },
    {
      "cell_type": "markdown",
      "metadata": {
        "id": "GmX2OEAGZWZt"
      },
      "source": [
        "#KneighborsClassifier - single dataset"
      ]
    },
    {
      "cell_type": "code",
      "execution_count": 77,
      "metadata": {
        "colab": {
          "base_uri": "https://localhost:8080/"
        },
        "id": "vZWRlEQJlGZA",
        "outputId": "fcf8ce79-983d-4da2-ea74-bb5c236f6588"
      },
      "outputs": [
        {
          "output_type": "stream",
          "name": "stdout",
          "text": [
            "KNN Accuracy: 0.5617016317016317\n",
            "Confusion Matrix:\n",
            "[[0.82842785 0.02727925 0.03589375 0.01651113 0.04881551 0.017229   0.01076813 0.00430725 0.01076813]\n",
            " [0.1443433  0.526658   0.08582575 0.04161248 0.1053316  0.02860858 0.02990897 0.01950585 0.01820546]\n",
            " [0.17087156 0.07912844 0.59174312 0.02866972 0.08830275 0.00802752 0.02178899 0.00917431 0.00229358]\n",
            " [0.21006565 0.07877462 0.04157549 0.45295405 0.10284464 0.01531729 0.04157549 0.03501094 0.02188184]\n",
            " [0.19468085 0.05319149 0.09468085 0.02340426 0.5893617  0.00212766 0.02978723 0.         0.01276596]\n",
            " [0.21428571 0.05590062 0.13354037 0.05900621 0.17080745 0.27018634 0.04347826 0.04037267 0.01242236]\n",
            " [0.27087576 0.04887984 0.09368635 0.08961303 0.08553971 0.01629328 0.37270876 0.01425662 0.00814664]\n",
            " [0.2246696  0.14096916 0.07929515 0.0969163  0.08370044 0.04405286 0.03524229 0.25110132 0.04405286]\n",
            " [0.25882353 0.12705882 0.10588235 0.03764706 0.13176471 0.02588235 0.04470588 0.02352941 0.24470588]]\n"
          ]
        }
      ],
      "source": [
        "knn_model(X_train_single, y_train_single, X_test_single, y_test_single)"
      ]
    },
    {
      "cell_type": "markdown",
      "metadata": {
        "id": "1m6l8hUElTDI"
      },
      "source": [
        "#KneighborsClassifier - final dataset"
      ]
    },
    {
      "cell_type": "code",
      "execution_count": 78,
      "metadata": {
        "colab": {
          "base_uri": "https://localhost:8080/"
        },
        "id": "x0LeOrf1lMC4",
        "outputId": "535d7f99-3630-430d-affb-eddf0607a88a"
      },
      "outputs": [
        {
          "output_type": "stream",
          "name": "stdout",
          "text": [
            "KNN Accuracy: 0.7988888888888889\n",
            "Confusion Matrix:\n",
            "[[0.68791946 0.31208054]\n",
            " [0.04778761 0.95221239]]\n"
          ]
        }
      ],
      "source": [
        "knn_model(X_train_final, y_train_final, X_test_final, y_test_final)"
      ]
    },
    {
      "cell_type": "code",
      "execution_count": 79,
      "metadata": {
        "id": "2U1wQW3H9aD-"
      },
      "outputs": [],
      "source": [
        "from sklearn.neural_network import MLPClassifier"
      ]
    },
    {
      "cell_type": "code",
      "execution_count": 80,
      "metadata": {
        "id": "knFrfjDDnPec"
      },
      "outputs": [],
      "source": [
        "def mlp_model(X_train, y_train, X_test, y_test):\n",
        "  mlp_model = MLPClassifier(hidden_layer_sizes=(128, 32), max_iter=100)\n",
        "  mlp_model.fit(X_train, y_train)\n",
        "  y_pred = mlp_model.predict(X_test)\n",
        "  mlp_accuracy = cross_val_score(mlp_model, X_train, y_train, cv=10, scoring=\"accuracy\").mean()\n",
        "  conf_matrix = confusion_matrix(y_test, y_pred, normalize = \"true\")\n",
        "  print(f\"Multilayer Perceptron Accuracy: {mlp_accuracy}\")\n",
        "  print(\"Confusion Matrix:\")\n",
        "  print(conf_matrix)\n",
        "  return"
      ]
    },
    {
      "cell_type": "markdown",
      "metadata": {
        "id": "518byOaV9Io9"
      },
      "source": [
        "#Multilayer Perceptron - single dataset"
      ]
    },
    {
      "cell_type": "code",
      "execution_count": 81,
      "metadata": {
        "colab": {
          "base_uri": "https://localhost:8080/"
        },
        "id": "jWT_FJnt8_NY",
        "outputId": "d3bb558b-ef54-4ebf-bff7-200a38cfedfd"
      },
      "outputs": [
        {
          "output_type": "stream",
          "name": "stderr",
          "text": [
            "/usr/local/lib/python3.10/dist-packages/sklearn/neural_network/_multilayer_perceptron.py:686: ConvergenceWarning: Stochastic Optimizer: Maximum iterations (100) reached and the optimization hasn't converged yet.\n",
            "  warnings.warn(\n",
            "/usr/local/lib/python3.10/dist-packages/sklearn/neural_network/_multilayer_perceptron.py:686: ConvergenceWarning: Stochastic Optimizer: Maximum iterations (100) reached and the optimization hasn't converged yet.\n",
            "  warnings.warn(\n",
            "/usr/local/lib/python3.10/dist-packages/sklearn/neural_network/_multilayer_perceptron.py:686: ConvergenceWarning: Stochastic Optimizer: Maximum iterations (100) reached and the optimization hasn't converged yet.\n",
            "  warnings.warn(\n",
            "/usr/local/lib/python3.10/dist-packages/sklearn/neural_network/_multilayer_perceptron.py:686: ConvergenceWarning: Stochastic Optimizer: Maximum iterations (100) reached and the optimization hasn't converged yet.\n",
            "  warnings.warn(\n",
            "/usr/local/lib/python3.10/dist-packages/sklearn/neural_network/_multilayer_perceptron.py:686: ConvergenceWarning: Stochastic Optimizer: Maximum iterations (100) reached and the optimization hasn't converged yet.\n",
            "  warnings.warn(\n",
            "/usr/local/lib/python3.10/dist-packages/sklearn/neural_network/_multilayer_perceptron.py:686: ConvergenceWarning: Stochastic Optimizer: Maximum iterations (100) reached and the optimization hasn't converged yet.\n",
            "  warnings.warn(\n",
            "/usr/local/lib/python3.10/dist-packages/sklearn/neural_network/_multilayer_perceptron.py:686: ConvergenceWarning: Stochastic Optimizer: Maximum iterations (100) reached and the optimization hasn't converged yet.\n",
            "  warnings.warn(\n",
            "/usr/local/lib/python3.10/dist-packages/sklearn/neural_network/_multilayer_perceptron.py:686: ConvergenceWarning: Stochastic Optimizer: Maximum iterations (100) reached and the optimization hasn't converged yet.\n",
            "  warnings.warn(\n",
            "/usr/local/lib/python3.10/dist-packages/sklearn/neural_network/_multilayer_perceptron.py:686: ConvergenceWarning: Stochastic Optimizer: Maximum iterations (100) reached and the optimization hasn't converged yet.\n",
            "  warnings.warn(\n",
            "/usr/local/lib/python3.10/dist-packages/sklearn/neural_network/_multilayer_perceptron.py:686: ConvergenceWarning: Stochastic Optimizer: Maximum iterations (100) reached and the optimization hasn't converged yet.\n",
            "  warnings.warn(\n"
          ]
        },
        {
          "output_type": "stream",
          "name": "stdout",
          "text": [
            "Multilayer Perceptron Accuracy: 0.671864801864802\n",
            "Confusion Matrix:\n",
            "[[0.90882986 0.005743   0.02081838 0.0086145  0.02368988 0.00646088 0.011486   0.00358938 0.01076813]\n",
            " [0.06111834 0.59427828 0.15214564 0.06762029 0.05721717 0.02730819 0.01950585 0.00780234 0.0130039 ]\n",
            " [0.07912844 0.04472477 0.75688073 0.03784404 0.04931193 0.01146789 0.00458716 0.01490826 0.00114679]\n",
            " [0.0678337  0.0547046  0.01531729 0.57986871 0.11597374 0.04595186 0.05908096 0.02625821 0.03501094]\n",
            " [0.09361702 0.04255319 0.0287234  0.01276596 0.78297872 0.00744681 0.02978723 0.         0.00212766]\n",
            " [0.09627329 0.02484472 0.0931677  0.19565217 0.04968944 0.36024845 0.08074534 0.04658385 0.05279503]\n",
            " [0.13441955 0.05295316 0.06517312 0.09368635 0.04887984 0.0407332  0.53971487 0.0203666  0.00407332]\n",
            " [0.13215859 0.18061674 0.06167401 0.07929515 0.05726872 0.030837   0.04405286 0.36563877 0.04845815]\n",
            " [0.21176471 0.12941176 0.10823529 0.08470588 0.04705882 0.03058824 0.03764706 0.05647059 0.29411765]]\n"
          ]
        },
        {
          "output_type": "stream",
          "name": "stderr",
          "text": [
            "/usr/local/lib/python3.10/dist-packages/sklearn/neural_network/_multilayer_perceptron.py:686: ConvergenceWarning: Stochastic Optimizer: Maximum iterations (100) reached and the optimization hasn't converged yet.\n",
            "  warnings.warn(\n"
          ]
        }
      ],
      "source": [
        "mlp_model(X_train_single, y_train_single, X_test_single, y_test_single)"
      ]
    },
    {
      "cell_type": "markdown",
      "metadata": {
        "id": "3kjD0pxw951O"
      },
      "source": [
        "#Multilayer Perceptron - Final\n"
      ]
    },
    {
      "cell_type": "code",
      "execution_count": 82,
      "metadata": {
        "colab": {
          "base_uri": "https://localhost:8080/"
        },
        "id": "0MsajyVD95CZ",
        "outputId": "924d8378-8f14-4069-ab4c-a1dc6fb2c315"
      },
      "outputs": [
        {
          "output_type": "stream",
          "name": "stderr",
          "text": [
            "/usr/local/lib/python3.10/dist-packages/sklearn/neural_network/_multilayer_perceptron.py:686: ConvergenceWarning: Stochastic Optimizer: Maximum iterations (100) reached and the optimization hasn't converged yet.\n",
            "  warnings.warn(\n",
            "/usr/local/lib/python3.10/dist-packages/sklearn/neural_network/_multilayer_perceptron.py:686: ConvergenceWarning: Stochastic Optimizer: Maximum iterations (100) reached and the optimization hasn't converged yet.\n",
            "  warnings.warn(\n",
            "/usr/local/lib/python3.10/dist-packages/sklearn/neural_network/_multilayer_perceptron.py:686: ConvergenceWarning: Stochastic Optimizer: Maximum iterations (100) reached and the optimization hasn't converged yet.\n",
            "  warnings.warn(\n",
            "/usr/local/lib/python3.10/dist-packages/sklearn/neural_network/_multilayer_perceptron.py:686: ConvergenceWarning: Stochastic Optimizer: Maximum iterations (100) reached and the optimization hasn't converged yet.\n",
            "  warnings.warn(\n",
            "/usr/local/lib/python3.10/dist-packages/sklearn/neural_network/_multilayer_perceptron.py:686: ConvergenceWarning: Stochastic Optimizer: Maximum iterations (100) reached and the optimization hasn't converged yet.\n",
            "  warnings.warn(\n",
            "/usr/local/lib/python3.10/dist-packages/sklearn/neural_network/_multilayer_perceptron.py:686: ConvergenceWarning: Stochastic Optimizer: Maximum iterations (100) reached and the optimization hasn't converged yet.\n",
            "  warnings.warn(\n",
            "/usr/local/lib/python3.10/dist-packages/sklearn/neural_network/_multilayer_perceptron.py:686: ConvergenceWarning: Stochastic Optimizer: Maximum iterations (100) reached and the optimization hasn't converged yet.\n",
            "  warnings.warn(\n",
            "/usr/local/lib/python3.10/dist-packages/sklearn/neural_network/_multilayer_perceptron.py:686: ConvergenceWarning: Stochastic Optimizer: Maximum iterations (100) reached and the optimization hasn't converged yet.\n",
            "  warnings.warn(\n",
            "/usr/local/lib/python3.10/dist-packages/sklearn/neural_network/_multilayer_perceptron.py:686: ConvergenceWarning: Stochastic Optimizer: Maximum iterations (100) reached and the optimization hasn't converged yet.\n",
            "  warnings.warn(\n",
            "/usr/local/lib/python3.10/dist-packages/sklearn/neural_network/_multilayer_perceptron.py:686: ConvergenceWarning: Stochastic Optimizer: Maximum iterations (100) reached and the optimization hasn't converged yet.\n",
            "  warnings.warn(\n"
          ]
        },
        {
          "output_type": "stream",
          "name": "stdout",
          "text": [
            "Multilayer Perceptron Accuracy: 0.7711111111111111\n",
            "Confusion Matrix:\n",
            "[[0.7852349  0.2147651 ]\n",
            " [0.08318584 0.91681416]]\n"
          ]
        },
        {
          "output_type": "stream",
          "name": "stderr",
          "text": [
            "/usr/local/lib/python3.10/dist-packages/sklearn/neural_network/_multilayer_perceptron.py:686: ConvergenceWarning: Stochastic Optimizer: Maximum iterations (100) reached and the optimization hasn't converged yet.\n",
            "  warnings.warn(\n"
          ]
        }
      ],
      "source": [
        "mlp_model(X_train_final, y_train_final, X_test_final, y_test_final)"
      ]
    },
    {
      "cell_type": "markdown",
      "metadata": {
        "id": "MZz3haGctWHR"
      },
      "source": [
        "#KNN Regression - multi"
      ]
    },
    {
      "cell_type": "code",
      "execution_count": 83,
      "metadata": {
        "id": "kuF7vrK_Ng-2"
      },
      "outputs": [],
      "source": [
        "from sklearn.neighbors import KNeighborsRegressor\n",
        "from sklearn.multioutput import MultiOutputRegressor\n",
        "from sklearn.metrics import r2_score"
      ]
    },
    {
      "cell_type": "code",
      "execution_count": 84,
      "metadata": {
        "id": "XhBhb69-LnYY"
      },
      "outputs": [],
      "source": [
        "knn_regressor = KNeighborsRegressor(n_neighbors=5)"
      ]
    },
    {
      "cell_type": "code",
      "execution_count": 85,
      "metadata": {
        "colab": {
          "base_uri": "https://localhost:8080/",
          "height": 75
        },
        "id": "KKM2UADxNaPZ",
        "outputId": "95a7d2cb-1a71-4645-ab3e-fe31e5e6dd73"
      },
      "outputs": [
        {
          "output_type": "execute_result",
          "data": {
            "text/plain": [
              "KNeighborsRegressor()"
            ],
            "text/html": [
              "<style>#sk-container-id-3 {color: black;background-color: white;}#sk-container-id-3 pre{padding: 0;}#sk-container-id-3 div.sk-toggleable {background-color: white;}#sk-container-id-3 label.sk-toggleable__label {cursor: pointer;display: block;width: 100%;margin-bottom: 0;padding: 0.3em;box-sizing: border-box;text-align: center;}#sk-container-id-3 label.sk-toggleable__label-arrow:before {content: \"▸\";float: left;margin-right: 0.25em;color: #696969;}#sk-container-id-3 label.sk-toggleable__label-arrow:hover:before {color: black;}#sk-container-id-3 div.sk-estimator:hover label.sk-toggleable__label-arrow:before {color: black;}#sk-container-id-3 div.sk-toggleable__content {max-height: 0;max-width: 0;overflow: hidden;text-align: left;background-color: #f0f8ff;}#sk-container-id-3 div.sk-toggleable__content pre {margin: 0.2em;color: black;border-radius: 0.25em;background-color: #f0f8ff;}#sk-container-id-3 input.sk-toggleable__control:checked~div.sk-toggleable__content {max-height: 200px;max-width: 100%;overflow: auto;}#sk-container-id-3 input.sk-toggleable__control:checked~label.sk-toggleable__label-arrow:before {content: \"▾\";}#sk-container-id-3 div.sk-estimator input.sk-toggleable__control:checked~label.sk-toggleable__label {background-color: #d4ebff;}#sk-container-id-3 div.sk-label input.sk-toggleable__control:checked~label.sk-toggleable__label {background-color: #d4ebff;}#sk-container-id-3 input.sk-hidden--visually {border: 0;clip: rect(1px 1px 1px 1px);clip: rect(1px, 1px, 1px, 1px);height: 1px;margin: -1px;overflow: hidden;padding: 0;position: absolute;width: 1px;}#sk-container-id-3 div.sk-estimator {font-family: monospace;background-color: #f0f8ff;border: 1px dotted black;border-radius: 0.25em;box-sizing: border-box;margin-bottom: 0.5em;}#sk-container-id-3 div.sk-estimator:hover {background-color: #d4ebff;}#sk-container-id-3 div.sk-parallel-item::after {content: \"\";width: 100%;border-bottom: 1px solid gray;flex-grow: 1;}#sk-container-id-3 div.sk-label:hover label.sk-toggleable__label {background-color: #d4ebff;}#sk-container-id-3 div.sk-serial::before {content: \"\";position: absolute;border-left: 1px solid gray;box-sizing: border-box;top: 0;bottom: 0;left: 50%;z-index: 0;}#sk-container-id-3 div.sk-serial {display: flex;flex-direction: column;align-items: center;background-color: white;padding-right: 0.2em;padding-left: 0.2em;position: relative;}#sk-container-id-3 div.sk-item {position: relative;z-index: 1;}#sk-container-id-3 div.sk-parallel {display: flex;align-items: stretch;justify-content: center;background-color: white;position: relative;}#sk-container-id-3 div.sk-item::before, #sk-container-id-3 div.sk-parallel-item::before {content: \"\";position: absolute;border-left: 1px solid gray;box-sizing: border-box;top: 0;bottom: 0;left: 50%;z-index: -1;}#sk-container-id-3 div.sk-parallel-item {display: flex;flex-direction: column;z-index: 1;position: relative;background-color: white;}#sk-container-id-3 div.sk-parallel-item:first-child::after {align-self: flex-end;width: 50%;}#sk-container-id-3 div.sk-parallel-item:last-child::after {align-self: flex-start;width: 50%;}#sk-container-id-3 div.sk-parallel-item:only-child::after {width: 0;}#sk-container-id-3 div.sk-dashed-wrapped {border: 1px dashed gray;margin: 0 0.4em 0.5em 0.4em;box-sizing: border-box;padding-bottom: 0.4em;background-color: white;}#sk-container-id-3 div.sk-label label {font-family: monospace;font-weight: bold;display: inline-block;line-height: 1.2em;}#sk-container-id-3 div.sk-label-container {text-align: center;}#sk-container-id-3 div.sk-container {/* jupyter's `normalize.less` sets `[hidden] { display: none; }` but bootstrap.min.css set `[hidden] { display: none !important; }` so we also need the `!important` here to be able to override the default hidden behavior on the sphinx rendered scikit-learn.org. See: https://github.com/scikit-learn/scikit-learn/issues/21755 */display: inline-block !important;position: relative;}#sk-container-id-3 div.sk-text-repr-fallback {display: none;}</style><div id=\"sk-container-id-3\" class=\"sk-top-container\"><div class=\"sk-text-repr-fallback\"><pre>KNeighborsRegressor()</pre><b>In a Jupyter environment, please rerun this cell to show the HTML representation or trust the notebook. <br />On GitHub, the HTML representation is unable to render, please try loading this page with nbviewer.org.</b></div><div class=\"sk-container\" hidden><div class=\"sk-item\"><div class=\"sk-estimator sk-toggleable\"><input class=\"sk-toggleable__control sk-hidden--visually\" id=\"sk-estimator-id-3\" type=\"checkbox\" checked><label for=\"sk-estimator-id-3\" class=\"sk-toggleable__label sk-toggleable__label-arrow\">KNeighborsRegressor</label><div class=\"sk-toggleable__content\"><pre>KNeighborsRegressor()</pre></div></div></div></div></div>"
            ]
          },
          "metadata": {},
          "execution_count": 85
        }
      ],
      "source": [
        "#multioutput_knn = MultiOutputRegressor(knn_regressor)\n",
        "#y_train_multi = y_train_multi.reshape(-1, 1)\n",
        "#y_train_multi = np.tile(y_train_multi, (1, 9))\n",
        "#multioutput_knn.fit(X_train_multi, y_train_multi)\n",
        "knn_regressor.fit(X_train_multi, y_train_multi)"
      ]
    },
    {
      "cell_type": "code",
      "execution_count": 86,
      "metadata": {
        "id": "1LQJYhmhR_0e"
      },
      "outputs": [],
      "source": [
        "y_pred = knn_regressor.predict(X_test_multi)\n",
        "#knn_pred = np.round(multioutput_knn.predict(X_test_multi))"
      ]
    },
    {
      "cell_type": "code",
      "execution_count": 87,
      "metadata": {
        "id": "m_tIHDP9SBgP"
      },
      "outputs": [],
      "source": [
        "#knn_r2_score = mean_squared_error(y_test, y_pred)\n",
        "knn_r2_score = cross_val_score(knn_regressor, X_shuffled_multi, y_shuffled_multi, cv=10, scoring=\"r2\").mean()\n",
        "#knn_r2_score = r2_score(y_test_multi, knn_pred)\n",
        "#conf_matrix = confusion_matrix(y_test, y_pred)"
      ]
    },
    {
      "cell_type": "code",
      "execution_count": 88,
      "metadata": {
        "colab": {
          "base_uri": "https://localhost:8080/"
        },
        "id": "lA81taofSJKg",
        "outputId": "c405cf10-7fd7-4db7-9734-c692b4c7c40f"
      },
      "outputs": [
        {
          "output_type": "stream",
          "name": "stdout",
          "text": [
            "KNN Regressor Accuracy: 0.5832841824144476\n"
          ]
        }
      ],
      "source": [
        "print(f\"KNN Regressor Accuracy: {knn_r2_score }\")"
      ]
    },
    {
      "cell_type": "code",
      "execution_count": 89,
      "metadata": {
        "id": "putzzBisSM1a"
      },
      "outputs": [],
      "source": [
        "#print(\"Confusion Matrix:\")\n",
        "#print(conf_matrix)"
      ]
    },
    {
      "cell_type": "markdown",
      "metadata": {
        "id": "aqWWHKp2tbOA"
      },
      "source": [
        "#Linear Regression - multi"
      ]
    },
    {
      "cell_type": "code",
      "execution_count": 90,
      "metadata": {
        "id": "huSZvPJXVz9h"
      },
      "outputs": [],
      "source": [
        "from sklearn.linear_model import LinearRegression"
      ]
    },
    {
      "cell_type": "code",
      "execution_count": 91,
      "metadata": {
        "id": "hSZvKuNl6NgM"
      },
      "outputs": [],
      "source": [
        "#linear_regressor = LinearRegression()\n",
        "linear_models = []"
      ]
    },
    {
      "cell_type": "code",
      "execution_count": 92,
      "metadata": {
        "id": "-uMByM1ftGEl"
      },
      "outputs": [],
      "source": [
        "#linear_regressor.fit(X_train_multi, y_train_multi)\n",
        "for i in range(9):\n",
        "    linear_regressor = LinearRegression()\n",
        "    linear_regressor.fit(X_train_multi, y_train_multi[:, i])\n",
        "    linear_models.append(linear_regressor)\n"
      ]
    },
    {
      "cell_type": "code",
      "execution_count": 93,
      "metadata": {
        "colab": {
          "base_uri": "https://localhost:8080/"
        },
        "id": "uIknvuzGtIsh",
        "outputId": "ac429dad-d8c3-466e-9f97-eb2d848fead9"
      },
      "outputs": [
        {
          "output_type": "stream",
          "name": "stdout",
          "text": [
            "[[0. 0. 0. ... 0. 0. 0.]\n",
            " [0. 0. 0. ... 0. 0. 0.]\n",
            " [0. 0. 0. ... 0. 0. 0.]\n",
            " ...\n",
            " [0. 0. 0. ... 0. 0. 0.]\n",
            " [0. 0. 0. ... 0. 0. 0.]\n",
            " [0. 0. 0. ... 0. 0. 0.]]\n",
            "[0 0 0 ... 0 0 0]\n"
          ]
        }
      ],
      "source": [
        "#y_pred = linear_regressor.predict(X_test_multi)\n",
        "np.set_printoptions(linewidth=np.inf)\n",
        "linear_outputs = np.array([np.round(model.predict(X_test_multi)) for model in linear_models]).T\n",
        "linear_pred = np.argmax(linear_outputs, axis=1)\n",
        "print(linear_outputs)\n",
        "print(linear_pred)"
      ]
    },
    {
      "cell_type": "code",
      "execution_count": 94,
      "metadata": {
        "id": "veDPv2NHtLdQ"
      },
      "outputs": [],
      "source": [
        "#linear_r2_score = cross_val_score(linear_regressor, X_train_multi, X_train_multi, cv=10, scoring=\"r2\").mean()\n",
        "linear_accuracy = accuracy_score(np.argmax(y_test_multi, axis=1), linear_pred)"
      ]
    },
    {
      "cell_type": "code",
      "execution_count": 95,
      "metadata": {
        "colab": {
          "base_uri": "https://localhost:8080/"
        },
        "id": "QGFq3GGYtOnn",
        "outputId": "735dd9bc-cb34-4d6c-932b-4062133e80ca"
      },
      "outputs": [
        {
          "output_type": "stream",
          "name": "stdout",
          "text": [
            "Linear Regression Accuracy: 0.24135006784260515\n"
          ]
        }
      ],
      "source": [
        "print(f\"Linear Regression Accuracy: {linear_accuracy }\")"
      ]
    },
    {
      "cell_type": "markdown",
      "metadata": {
        "id": "vPJg_0-btd7M"
      },
      "source": [
        "# Multilayer Regression - Multi"
      ]
    },
    {
      "cell_type": "code",
      "execution_count": 96,
      "metadata": {
        "id": "_Y3m1_AftS0a"
      },
      "outputs": [],
      "source": [
        "from sklearn.neural_network import MLPRegressor"
      ]
    },
    {
      "cell_type": "code",
      "execution_count": 97,
      "metadata": {
        "id": "sgrc4k0Yti1Q"
      },
      "outputs": [],
      "source": [
        "mlp_regressor = MLPRegressor(hidden_layer_sizes=(128, 32), activation='relu', max_iter=100, random_state=42) #128,\n",
        "#mlp_regressor = MLPRegressor(hidden_layer_sizes=(100, 50), max_iter=1000, random_state=42)"
      ]
    },
    {
      "cell_type": "code",
      "execution_count": 98,
      "metadata": {
        "colab": {
          "base_uri": "https://localhost:8080/",
          "height": 129
        },
        "id": "6FVnkMrMttm7",
        "outputId": "009c0db1-ffeb-40ff-9cfe-a07347027620"
      },
      "outputs": [
        {
          "output_type": "stream",
          "name": "stderr",
          "text": [
            "/usr/local/lib/python3.10/dist-packages/sklearn/neural_network/_multilayer_perceptron.py:686: ConvergenceWarning: Stochastic Optimizer: Maximum iterations (100) reached and the optimization hasn't converged yet.\n",
            "  warnings.warn(\n"
          ]
        },
        {
          "output_type": "execute_result",
          "data": {
            "text/plain": [
              "MLPRegressor(hidden_layer_sizes=(128, 32), max_iter=100, random_state=42)"
            ],
            "text/html": [
              "<style>#sk-container-id-4 {color: black;background-color: white;}#sk-container-id-4 pre{padding: 0;}#sk-container-id-4 div.sk-toggleable {background-color: white;}#sk-container-id-4 label.sk-toggleable__label {cursor: pointer;display: block;width: 100%;margin-bottom: 0;padding: 0.3em;box-sizing: border-box;text-align: center;}#sk-container-id-4 label.sk-toggleable__label-arrow:before {content: \"▸\";float: left;margin-right: 0.25em;color: #696969;}#sk-container-id-4 label.sk-toggleable__label-arrow:hover:before {color: black;}#sk-container-id-4 div.sk-estimator:hover label.sk-toggleable__label-arrow:before {color: black;}#sk-container-id-4 div.sk-toggleable__content {max-height: 0;max-width: 0;overflow: hidden;text-align: left;background-color: #f0f8ff;}#sk-container-id-4 div.sk-toggleable__content pre {margin: 0.2em;color: black;border-radius: 0.25em;background-color: #f0f8ff;}#sk-container-id-4 input.sk-toggleable__control:checked~div.sk-toggleable__content {max-height: 200px;max-width: 100%;overflow: auto;}#sk-container-id-4 input.sk-toggleable__control:checked~label.sk-toggleable__label-arrow:before {content: \"▾\";}#sk-container-id-4 div.sk-estimator input.sk-toggleable__control:checked~label.sk-toggleable__label {background-color: #d4ebff;}#sk-container-id-4 div.sk-label input.sk-toggleable__control:checked~label.sk-toggleable__label {background-color: #d4ebff;}#sk-container-id-4 input.sk-hidden--visually {border: 0;clip: rect(1px 1px 1px 1px);clip: rect(1px, 1px, 1px, 1px);height: 1px;margin: -1px;overflow: hidden;padding: 0;position: absolute;width: 1px;}#sk-container-id-4 div.sk-estimator {font-family: monospace;background-color: #f0f8ff;border: 1px dotted black;border-radius: 0.25em;box-sizing: border-box;margin-bottom: 0.5em;}#sk-container-id-4 div.sk-estimator:hover {background-color: #d4ebff;}#sk-container-id-4 div.sk-parallel-item::after {content: \"\";width: 100%;border-bottom: 1px solid gray;flex-grow: 1;}#sk-container-id-4 div.sk-label:hover label.sk-toggleable__label {background-color: #d4ebff;}#sk-container-id-4 div.sk-serial::before {content: \"\";position: absolute;border-left: 1px solid gray;box-sizing: border-box;top: 0;bottom: 0;left: 50%;z-index: 0;}#sk-container-id-4 div.sk-serial {display: flex;flex-direction: column;align-items: center;background-color: white;padding-right: 0.2em;padding-left: 0.2em;position: relative;}#sk-container-id-4 div.sk-item {position: relative;z-index: 1;}#sk-container-id-4 div.sk-parallel {display: flex;align-items: stretch;justify-content: center;background-color: white;position: relative;}#sk-container-id-4 div.sk-item::before, #sk-container-id-4 div.sk-parallel-item::before {content: \"\";position: absolute;border-left: 1px solid gray;box-sizing: border-box;top: 0;bottom: 0;left: 50%;z-index: -1;}#sk-container-id-4 div.sk-parallel-item {display: flex;flex-direction: column;z-index: 1;position: relative;background-color: white;}#sk-container-id-4 div.sk-parallel-item:first-child::after {align-self: flex-end;width: 50%;}#sk-container-id-4 div.sk-parallel-item:last-child::after {align-self: flex-start;width: 50%;}#sk-container-id-4 div.sk-parallel-item:only-child::after {width: 0;}#sk-container-id-4 div.sk-dashed-wrapped {border: 1px dashed gray;margin: 0 0.4em 0.5em 0.4em;box-sizing: border-box;padding-bottom: 0.4em;background-color: white;}#sk-container-id-4 div.sk-label label {font-family: monospace;font-weight: bold;display: inline-block;line-height: 1.2em;}#sk-container-id-4 div.sk-label-container {text-align: center;}#sk-container-id-4 div.sk-container {/* jupyter's `normalize.less` sets `[hidden] { display: none; }` but bootstrap.min.css set `[hidden] { display: none !important; }` so we also need the `!important` here to be able to override the default hidden behavior on the sphinx rendered scikit-learn.org. See: https://github.com/scikit-learn/scikit-learn/issues/21755 */display: inline-block !important;position: relative;}#sk-container-id-4 div.sk-text-repr-fallback {display: none;}</style><div id=\"sk-container-id-4\" class=\"sk-top-container\"><div class=\"sk-text-repr-fallback\"><pre>MLPRegressor(hidden_layer_sizes=(128, 32), max_iter=100, random_state=42)</pre><b>In a Jupyter environment, please rerun this cell to show the HTML representation or trust the notebook. <br />On GitHub, the HTML representation is unable to render, please try loading this page with nbviewer.org.</b></div><div class=\"sk-container\" hidden><div class=\"sk-item\"><div class=\"sk-estimator sk-toggleable\"><input class=\"sk-toggleable__control sk-hidden--visually\" id=\"sk-estimator-id-4\" type=\"checkbox\" checked><label for=\"sk-estimator-id-4\" class=\"sk-toggleable__label sk-toggleable__label-arrow\">MLPRegressor</label><div class=\"sk-toggleable__content\"><pre>MLPRegressor(hidden_layer_sizes=(128, 32), max_iter=100, random_state=42)</pre></div></div></div></div></div>"
            ]
          },
          "metadata": {},
          "execution_count": 98
        }
      ],
      "source": [
        "mlp_regressor.fit(X_train_multi, y_train_multi)"
      ]
    },
    {
      "cell_type": "code",
      "execution_count": 99,
      "metadata": {
        "id": "4UZbnpNPt1a1"
      },
      "outputs": [],
      "source": [
        "y_pred = mlp_regressor.predict(X_test_multi) # do osmething like this for linear no need for mlp"
      ]
    },
    {
      "cell_type": "code",
      "execution_count": 100,
      "metadata": {
        "id": "STdUxXnOt32K",
        "colab": {
          "base_uri": "https://localhost:8080/"
        },
        "outputId": "d7d34366-8ee4-48d8-b930-81d041b8c74b"
      },
      "outputs": [
        {
          "output_type": "stream",
          "name": "stderr",
          "text": [
            "/usr/local/lib/python3.10/dist-packages/sklearn/neural_network/_multilayer_perceptron.py:686: ConvergenceWarning: Stochastic Optimizer: Maximum iterations (100) reached and the optimization hasn't converged yet.\n",
            "  warnings.warn(\n",
            "/usr/local/lib/python3.10/dist-packages/sklearn/neural_network/_multilayer_perceptron.py:686: ConvergenceWarning: Stochastic Optimizer: Maximum iterations (100) reached and the optimization hasn't converged yet.\n",
            "  warnings.warn(\n",
            "/usr/local/lib/python3.10/dist-packages/sklearn/neural_network/_multilayer_perceptron.py:686: ConvergenceWarning: Stochastic Optimizer: Maximum iterations (100) reached and the optimization hasn't converged yet.\n",
            "  warnings.warn(\n",
            "/usr/local/lib/python3.10/dist-packages/sklearn/neural_network/_multilayer_perceptron.py:686: ConvergenceWarning: Stochastic Optimizer: Maximum iterations (100) reached and the optimization hasn't converged yet.\n",
            "  warnings.warn(\n",
            "/usr/local/lib/python3.10/dist-packages/sklearn/neural_network/_multilayer_perceptron.py:686: ConvergenceWarning: Stochastic Optimizer: Maximum iterations (100) reached and the optimization hasn't converged yet.\n",
            "  warnings.warn(\n",
            "/usr/local/lib/python3.10/dist-packages/sklearn/neural_network/_multilayer_perceptron.py:686: ConvergenceWarning: Stochastic Optimizer: Maximum iterations (100) reached and the optimization hasn't converged yet.\n",
            "  warnings.warn(\n"
          ]
        }
      ],
      "source": [
        "# consider using root mean square error, no confusion matrix\n",
        "mlp_r2_score = cross_val_score(mlp_regressor, X_shuffled_multi, y_shuffled_multi, cv=10, scoring=\"r2\").mean()"
      ]
    },
    {
      "cell_type": "code",
      "execution_count": 101,
      "metadata": {
        "id": "-u_Xr9nBt6ip",
        "colab": {
          "base_uri": "https://localhost:8080/"
        },
        "outputId": "bd1d3e27-7d9d-4deb-bcfc-7c25a43cc688"
      },
      "outputs": [
        {
          "output_type": "stream",
          "name": "stdout",
          "text": [
            "Multilayer Regression Accuracy: 0.6276074011988595\n"
          ]
        }
      ],
      "source": [
        "print(f\"Multilayer Regression Accuracy: {mlp_r2_score }\")"
      ]
    },
    {
      "cell_type": "markdown",
      "source": [
        "#Linear Regression - Normal Equation (Extra Credit)"
      ],
      "metadata": {
        "id": "_pInnP6NhPfe"
      }
    },
    {
      "cell_type": "code",
      "execution_count": 102,
      "metadata": {
        "id": "oXSv8ZiN6eYn"
      },
      "outputs": [],
      "source": [
        "#From textbook\n",
        "from sklearn.preprocessing import add_dummy_feature\n",
        "\n",
        "\n",
        "X_b = add_dummy_feature(X_train_multi)  # add x0 = 1 to each instance\n",
        "theta_best = np.linalg.inv(X_b.T @ X_b) @ X_b.T @ y_train_multi"
      ]
    },
    {
      "cell_type": "code",
      "source": [
        "theta_best"
      ],
      "metadata": {
        "colab": {
          "base_uri": "https://localhost:8080/"
        },
        "id": "A2DjS15fhO6f",
        "outputId": "856edaef-8de3-4785-fdc0-368cb0ba6b02"
      },
      "execution_count": 103,
      "outputs": [
        {
          "output_type": "execute_result",
          "data": {
            "text/plain": [
              "array([[ 2.24236538e-01,  1.89600582e-01,  2.36057889e-01,  1.53654358e-01,  2.75904966e-01,  1.72218485e-01,  2.57146620e-01,  1.42255940e-01,  2.10123001e-01],\n",
              "       [-1.21645405e-02, -1.63288633e-02,  2.12357679e-02,  2.22798490e-02,  2.82586857e-02,  9.12773768e-03, -1.33384954e-02,  4.52462474e-02,  2.81150273e-02],\n",
              "       [ 1.52823534e-02, -4.75844386e-02, -1.15477188e-02,  4.52462333e-02,  4.66726974e-03,  2.15900722e-02,  2.92274559e-02,  2.78423587e-02,  7.51895097e-03],\n",
              "       [-6.94292931e-03, -2.39235450e-02, -1.95371151e-02,  1.07469019e-02, -1.04765643e-02,  1.95261651e-02,  4.85315340e-02, -1.19477584e-02,  2.82782374e-02],\n",
              "       [ 2.28468293e-02,  1.63395717e-02, -6.07825437e-03,  1.34158123e-04,  1.06016465e-02, -7.32150027e-03, -5.47129154e-03,  4.86906613e-02,  8.95347676e-03],\n",
              "       [-1.72638136e-03, -7.96728427e-03,  1.46677460e-02,  1.35914491e-02, -7.27893764e-03, -5.79658991e-03,  1.27224426e-02,  7.55012806e-03,  4.78818315e-03],\n",
              "       [-2.94627563e-02,  3.01540184e-02, -3.18208467e-02, -4.73761705e-03, -1.31932431e-03, -3.04599837e-02,  1.86692628e-02,  3.14356283e-02,  3.54251011e-02],\n",
              "       [-2.01421496e-02, -3.31884173e-03,  2.63136277e-02,  2.25856288e-02,  6.02338133e-03,  7.69270898e-03, -2.32210320e-02,  2.41645754e-02,  1.41512893e-02],\n",
              "       [-3.47141218e-02, -3.71425053e-02, -6.36777455e-02,  3.33977561e-05,  5.51235199e-03,  5.93068770e-03,  4.53148820e-02, -6.01004109e-03,  1.98649587e-02],\n",
              "       [-2.70346345e-02, -2.10363543e-02, -4.10901536e-02,  3.01395029e-02,  2.22067503e-02,  3.67859404e-03,  4.29140148e-02,  1.05976682e-02, -6.76901823e-03]])"
            ]
          },
          "metadata": {},
          "execution_count": 103
        }
      ]
    },
    {
      "cell_type": "code",
      "source": [],
      "metadata": {
        "id": "upb54DnEtWbI"
      },
      "execution_count": 103,
      "outputs": []
    }
  ],
  "metadata": {
    "colab": {
      "provenance": []
    },
    "kernelspec": {
      "display_name": "Python 3",
      "name": "python3"
    },
    "language_info": {
      "name": "python"
    }
  },
  "nbformat": 4,
  "nbformat_minor": 0
}